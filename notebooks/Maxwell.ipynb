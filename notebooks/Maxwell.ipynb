{
 "cells": [
  {
   "cell_type": "code",
   "execution_count": 1,
   "metadata": {},
   "outputs": [
    {
     "data": {
      "text/html": [
       "<span style=\"white-space: pre; font-family: monospace;\">tensor A {\n",
       "  a (3) : SO (4) \n",
       "} ;\n",
       "</span><script>registerTensorHover();</script>\n",
       "<span style=\"white-space: pre; font-family: monospace;\">op D {\n",
       "  a (3) : SO (4) \n",
       "} ;\n",
       "</span><script>registerTensorHover();</script>\n",
       "<span style=\"white-space: pre; font-family: monospace;\">[F]: </span><script>registerTensorHover();</script><math><mrow>\n",
       "<mmultiscripts>\n",
       "<mi mathvariant=\"bold\" class=\"tensor D\">D</mi><mi>a̲</mi><none/>\n",
       "</mmultiscripts><mmultiscripts>\n",
       "<mi mathvariant=\"bold\" class=\"tensor A\">A</mi><mi>b̲</mi><none/>\n",
       "</mmultiscripts><mo>+</mo>\n",
       "<mrow>\n",
       "<mn>-1</mn><mo></mo><mmultiscripts>\n",
       "<mi mathvariant=\"bold\" class=\"tensor D\">D</mi><mi>b̲</mi><none/>\n",
       "</mmultiscripts><mmultiscripts>\n",
       "<mi mathvariant=\"bold\" class=\"tensor A\">A</mi><mi>a̲</mi><none/>\n",
       "</mmultiscripts></mrow>\n",
       "</mrow>\n",
       "</math><br><script>registerTensorHover();</script>\n",
       "<span style=\"white-space: pre; font-family: monospace;\">[$0]: </span><script>registerTensorHover();</script><math><mrow>\n",
       "<mrow>\n",
       "<mo>(</mo>\n",
       "<mmultiscripts>\n",
       "<mi mathvariant=\"bold\" class=\"tensor D\">D</mi><mi>z</mi><none/>\n",
       "</mmultiscripts><mmultiscripts>\n",
       "<mi mathvariant=\"bold\" class=\"tensor A\">A</mi><mi>y</mi><none/>\n",
       "</mmultiscripts><mo>+</mo>\n",
       "<mrow>\n",
       "<mn>-1</mn><mo></mo><mmultiscripts>\n",
       "<mi mathvariant=\"bold\" class=\"tensor D\">D</mi><mi>y</mi><none/>\n",
       "</mmultiscripts><mmultiscripts>\n",
       "<mi mathvariant=\"bold\" class=\"tensor A\">A</mi><mi>z</mi><none/>\n",
       "</mmultiscripts></mrow>\n",
       "<mo>)</mo>\n",
       "</mrow>\n",
       "<mo></mo><mrow>\n",
       "<mmultiscripts>\n",
       "<mi mathvariant=\"bold\" class=\"tensor g\">g</mi><none/><mi>y</mi><none/><mi>x</mi>\n",
       "</mmultiscripts><mo></mo><mrow>\n",
       "<mmultiscripts>\n",
       "<mi mathvariant=\"bold\" class=\"tensor g\">g</mi><none/><mi>z</mi><none/><mi>w</mi>\n",
       "</mmultiscripts><mo></mo><mrow>\n",
       "<mo>(</mo>\n",
       "<mmultiscripts>\n",
       "<mi mathvariant=\"bold\" class=\"tensor D\">D</mi><mi>w</mi><none/>\n",
       "</mmultiscripts><mmultiscripts>\n",
       "<mi mathvariant=\"bold\" class=\"tensor A\">A</mi><mi>x</mi><none/>\n",
       "</mmultiscripts><mo>+</mo>\n",
       "<mrow>\n",
       "<mn>-1</mn><mo></mo><mmultiscripts>\n",
       "<mi mathvariant=\"bold\" class=\"tensor D\">D</mi><mi>x</mi><none/>\n",
       "</mmultiscripts><mmultiscripts>\n",
       "<mi mathvariant=\"bold\" class=\"tensor A\">A</mi><mi>w</mi><none/>\n",
       "</mmultiscripts></mrow>\n",
       "<mo>)</mo>\n",
       "</mrow>\n",
       "</mrow>\n",
       "</mrow>\n",
       "</mrow>\n",
       "</math><br><script>registerTensorHover();</script>\n",
       "<span style=\"white-space: pre; font-family: monospace;\">[e1]: </span><script>registerTensorHover();</script><math><mrow>\n",
       "<mrow>\n",
       "<mmultiscripts>\n",
       "<mi mathvariant=\"bold\" class=\"tensor D\">D</mi><mi>z</mi><none/>\n",
       "</mmultiscripts><mmultiscripts>\n",
       "<mi mathvariant=\"bold\" class=\"tensor A\">A</mi><mi>y</mi><none/>\n",
       "</mmultiscripts><mo></mo><mrow>\n",
       "<mmultiscripts>\n",
       "<mi mathvariant=\"bold\" class=\"tensor g\">g</mi><none/><mi>y</mi><none/><mi>x</mi>\n",
       "</mmultiscripts><mo></mo><mrow>\n",
       "<mo>(</mo>\n",
       "<mrow>\n",
       "<mmultiscripts>\n",
       "<mi mathvariant=\"bold\" class=\"tensor g\">g</mi><none/><mi>z</mi><none/><mi>w</mi>\n",
       "</mmultiscripts><mo></mo><mmultiscripts>\n",
       "<mi mathvariant=\"bold\" class=\"tensor D\">D</mi><mi>w</mi><none/>\n",
       "</mmultiscripts><mmultiscripts>\n",
       "<mi mathvariant=\"bold\" class=\"tensor A\">A</mi><mi>x</mi><none/>\n",
       "</mmultiscripts></mrow>\n",
       "<mo>+</mo>\n",
       "<mrow>\n",
       "<mmultiscripts>\n",
       "<mi mathvariant=\"bold\" class=\"tensor g\">g</mi><none/><mi>z</mi><none/><mi>w</mi>\n",
       "</mmultiscripts><mo></mo><mrow>\n",
       "<mn>-1</mn><mo></mo><mmultiscripts>\n",
       "<mi mathvariant=\"bold\" class=\"tensor D\">D</mi><mi>x</mi><none/>\n",
       "</mmultiscripts><mmultiscripts>\n",
       "<mi mathvariant=\"bold\" class=\"tensor A\">A</mi><mi>w</mi><none/>\n",
       "</mmultiscripts></mrow>\n",
       "</mrow>\n",
       "<mo>)</mo>\n",
       "</mrow>\n",
       "</mrow>\n",
       "</mrow>\n",
       "<mo>+</mo>\n",
       "<mrow>\n",
       "<mrow>\n",
       "<mn>-1</mn><mo></mo><mmultiscripts>\n",
       "<mi mathvariant=\"bold\" class=\"tensor D\">D</mi><mi>y</mi><none/>\n",
       "</mmultiscripts><mmultiscripts>\n",
       "<mi mathvariant=\"bold\" class=\"tensor A\">A</mi><mi>z</mi><none/>\n",
       "</mmultiscripts></mrow>\n",
       "<mo></mo><mrow>\n",
       "<mmultiscripts>\n",
       "<mi mathvariant=\"bold\" class=\"tensor g\">g</mi><none/><mi>y</mi><none/><mi>v</mi>\n",
       "</mmultiscripts><mo></mo><mrow>\n",
       "<mo>(</mo>\n",
       "<mrow>\n",
       "<mmultiscripts>\n",
       "<mi mathvariant=\"bold\" class=\"tensor g\">g</mi><none/><mi>z</mi><none/><mi>u</mi>\n",
       "</mmultiscripts><mo></mo><mmultiscripts>\n",
       "<mi mathvariant=\"bold\" class=\"tensor D\">D</mi><mi>u</mi><none/>\n",
       "</mmultiscripts><mmultiscripts>\n",
       "<mi mathvariant=\"bold\" class=\"tensor A\">A</mi><mi>v</mi><none/>\n",
       "</mmultiscripts></mrow>\n",
       "<mo>+</mo>\n",
       "<mrow>\n",
       "<mmultiscripts>\n",
       "<mi mathvariant=\"bold\" class=\"tensor g\">g</mi><none/><mi>z</mi><none/><mi>u</mi>\n",
       "</mmultiscripts><mo></mo><mrow>\n",
       "<mn>-1</mn><mo></mo><mmultiscripts>\n",
       "<mi mathvariant=\"bold\" class=\"tensor D\">D</mi><mi>v</mi><none/>\n",
       "</mmultiscripts><mmultiscripts>\n",
       "<mi mathvariant=\"bold\" class=\"tensor A\">A</mi><mi>u</mi><none/>\n",
       "</mmultiscripts></mrow>\n",
       "</mrow>\n",
       "<mo>)</mo>\n",
       "</mrow>\n",
       "</mrow>\n",
       "</mrow>\n",
       "</mrow>\n",
       "</math><br><script>registerTensorHover();</script>\n"
      ]
     },
     "metadata": {},
     "output_type": "display_data"
    }
   ],
   "source": [
    "tensor A { a(3): SO(4) };\n",
    "op D { a(3): SO(4) };\n",
    "var F = D.a~(A.b) - D.b~(A.a);\n",
    "F.a.b F^a^b;\n",
    "var e1 = distribute!(F.a.b F^a^b);"
   ]
  },
  {
   "cell_type": "code",
   "execution_count": 7,
   "metadata": {
    "scrolled": true
   },
   "outputs": [
    {
     "data": {
      "text/html": [
       "<span style=\"white-space: pre; font-family: monospace;\">[e2]: </span><script>registerTensorHover();</script><math><mrow>\n",
       "<mrow>\n",
       "<mn>-1</mn><mo></mo><mrow>\n",
       "<mrow>\n",
       "<mo>(</mo>\n",
       "<mrow>\n",
       "<mn>-1</mn><mo></mo><mmultiscripts>\n",
       "<mi mathvariant=\"bold\" class=\"tensor D\">D</mi><none/><mi>y</mi>\n",
       "</mmultiscripts><mmultiscripts>\n",
       "<mi mathvariant=\"bold\" class=\"tensor A\">A</mi><none/><mi>z</mi>\n",
       "</mmultiscripts></mrow>\n",
       "<mo>+</mo>\n",
       "<mmultiscripts>\n",
       "<mi mathvariant=\"bold\" class=\"tensor D\">D</mi><none/><mi>z</mi>\n",
       "</mmultiscripts><mmultiscripts>\n",
       "<mi mathvariant=\"bold\" class=\"tensor A\">A</mi><none/><mi>y</mi>\n",
       "</mmultiscripts><mo>)</mo>\n",
       "</mrow>\n",
       "<mo></mo><mmultiscripts>\n",
       "<mi mathvariant=\"bold\" class=\"tensor D\">D</mi><mi>y</mi><none/>\n",
       "</mmultiscripts><mmultiscripts>\n",
       "<mi mathvariant=\"bold\" class=\"tensor A\">A</mi><mi>z</mi><none/>\n",
       "</mmultiscripts></mrow>\n",
       "</mrow>\n",
       "<mo>+</mo>\n",
       "<mrow>\n",
       "<mrow>\n",
       "<mo>(</mo>\n",
       "<mrow>\n",
       "<mn>-1</mn><mo></mo><mmultiscripts>\n",
       "<mi mathvariant=\"bold\" class=\"tensor D\">D</mi><none/><mi>w</mi>\n",
       "</mmultiscripts><mmultiscripts>\n",
       "<mi mathvariant=\"bold\" class=\"tensor A\">A</mi><none/><mi>x</mi>\n",
       "</mmultiscripts></mrow>\n",
       "<mo>+</mo>\n",
       "<mmultiscripts>\n",
       "<mi mathvariant=\"bold\" class=\"tensor D\">D</mi><none/><mi>x</mi>\n",
       "</mmultiscripts><mmultiscripts>\n",
       "<mi mathvariant=\"bold\" class=\"tensor A\">A</mi><none/><mi>w</mi>\n",
       "</mmultiscripts><mo>)</mo>\n",
       "</mrow>\n",
       "<mo></mo><mmultiscripts>\n",
       "<mi mathvariant=\"bold\" class=\"tensor D\">D</mi><mi>x</mi><none/>\n",
       "</mmultiscripts><mmultiscripts>\n",
       "<mi mathvariant=\"bold\" class=\"tensor A\">A</mi><mi>w</mi><none/>\n",
       "</mmultiscripts></mrow>\n",
       "</mrow>\n",
       "</math><br><script>registerTensorHover();</script>\n"
      ]
     },
     "metadata": {},
     "output_type": "display_data"
    }
   ],
   "source": [
    "var e2 = simp!(e1);"
   ]
  },
  {
   "cell_type": "code",
   "execution_count": 11,
   "metadata": {},
   "outputs": [
    {
     "data": {
      "text/html": [
       "<span style=\"white-space: pre; font-family: monospace;\">[e3]: </span><script>registerTensorHover();</script><math><mrow>\n",
       "<mrow>\n",
       "<mn>-1</mn><mo></mo><mrow>\n",
       "<mo>(</mo>\n",
       "<mrow>\n",
       "<mn>-1</mn><mo></mo><mrow>\n",
       "<mmultiscripts>\n",
       "<mi mathvariant=\"bold\" class=\"tensor D\">D</mi><none/><mi>y</mi>\n",
       "</mmultiscripts><mmultiscripts>\n",
       "<mi mathvariant=\"bold\" class=\"tensor A\">A</mi><none/><mi>z</mi>\n",
       "</mmultiscripts><mo></mo><mmultiscripts>\n",
       "<mi mathvariant=\"bold\" class=\"tensor D\">D</mi><mi>y</mi><none/>\n",
       "</mmultiscripts><mmultiscripts>\n",
       "<mi mathvariant=\"bold\" class=\"tensor A\">A</mi><mi>z</mi><none/>\n",
       "</mmultiscripts></mrow>\n",
       "</mrow>\n",
       "<mo>+</mo>\n",
       "<mrow>\n",
       "<mmultiscripts>\n",
       "<mi mathvariant=\"bold\" class=\"tensor D\">D</mi><none/><mi>x</mi>\n",
       "</mmultiscripts><mmultiscripts>\n",
       "<mi mathvariant=\"bold\" class=\"tensor A\">A</mi><none/><mi>w</mi>\n",
       "</mmultiscripts><mo></mo><mmultiscripts>\n",
       "<mi mathvariant=\"bold\" class=\"tensor D\">D</mi><mi>w</mi><none/>\n",
       "</mmultiscripts><mmultiscripts>\n",
       "<mi mathvariant=\"bold\" class=\"tensor A\">A</mi><mi>x</mi><none/>\n",
       "</mmultiscripts></mrow>\n",
       "<mo>)</mo>\n",
       "</mrow>\n",
       "</mrow>\n",
       "<mo>+</mo>\n",
       "<mrow>\n",
       "<mrow>\n",
       "<mn>-1</mn><mo></mo><mrow>\n",
       "<mmultiscripts>\n",
       "<mi mathvariant=\"bold\" class=\"tensor D\">D</mi><none/><mi>u</mi>\n",
       "</mmultiscripts><mmultiscripts>\n",
       "<mi mathvariant=\"bold\" class=\"tensor A\">A</mi><none/><mi>v</mi>\n",
       "</mmultiscripts><mo></mo><mmultiscripts>\n",
       "<mi mathvariant=\"bold\" class=\"tensor D\">D</mi><mi>v</mi><none/>\n",
       "</mmultiscripts><mmultiscripts>\n",
       "<mi mathvariant=\"bold\" class=\"tensor A\">A</mi><mi>u</mi><none/>\n",
       "</mmultiscripts></mrow>\n",
       "</mrow>\n",
       "<mo>+</mo>\n",
       "<mrow>\n",
       "<mmultiscripts>\n",
       "<mi mathvariant=\"bold\" class=\"tensor D\">D</mi><none/><mi>t</mi>\n",
       "</mmultiscripts><mmultiscripts>\n",
       "<mi mathvariant=\"bold\" class=\"tensor A\">A</mi><none/><mi>s</mi>\n",
       "</mmultiscripts><mo></mo><mmultiscripts>\n",
       "<mi mathvariant=\"bold\" class=\"tensor D\">D</mi><mi>t</mi><none/>\n",
       "</mmultiscripts><mmultiscripts>\n",
       "<mi mathvariant=\"bold\" class=\"tensor A\">A</mi><mi>s</mi><none/>\n",
       "</mmultiscripts></mrow>\n",
       "</mrow>\n",
       "</mrow>\n",
       "</math><br><script>registerTensorHover();</script>\n"
      ]
     },
     "metadata": {},
     "output_type": "display_data"
    }
   ],
   "source": [
    "var e3 = simp!(distribute!(e2));"
   ]
  },
  {
   "cell_type": "code",
   "execution_count": 12,
   "metadata": {},
   "outputs": [
    {
     "data": {
      "text/html": [
       "<span style=\"white-space: pre; font-family: monospace;\">[e4]: </span><script>registerTensorHover();</script><math><mrow>\n",
       "<mrow>\n",
       "<mrow>\n",
       "<mn>-1</mn><mo></mo><mrow>\n",
       "<mmultiscripts>\n",
       "<mi mathvariant=\"bold\" class=\"tensor D\">D</mi><none/><mi>z</mi>\n",
       "</mmultiscripts><mmultiscripts>\n",
       "<mi mathvariant=\"bold\" class=\"tensor A\">A</mi><none/><mi>y</mi>\n",
       "</mmultiscripts><mo></mo><mmultiscripts>\n",
       "<mi mathvariant=\"bold\" class=\"tensor D\">D</mi><mi>y</mi><none/>\n",
       "</mmultiscripts><mmultiscripts>\n",
       "<mi mathvariant=\"bold\" class=\"tensor A\">A</mi><mi>z</mi><none/>\n",
       "</mmultiscripts></mrow>\n",
       "</mrow>\n",
       "<mo>+</mo>\n",
       "<mrow>\n",
       "<mn>-1</mn><mo></mo><mrow>\n",
       "<mn>-1</mn><mo></mo><mrow>\n",
       "<mmultiscripts>\n",
       "<mi mathvariant=\"bold\" class=\"tensor D\">D</mi><none/><mi>w</mi>\n",
       "</mmultiscripts><mmultiscripts>\n",
       "<mi mathvariant=\"bold\" class=\"tensor A\">A</mi><none/><mi>x</mi>\n",
       "</mmultiscripts><mo></mo><mmultiscripts>\n",
       "<mi mathvariant=\"bold\" class=\"tensor D\">D</mi><mi>w</mi><none/>\n",
       "</mmultiscripts><mmultiscripts>\n",
       "<mi mathvariant=\"bold\" class=\"tensor A\">A</mi><mi>x</mi><none/>\n",
       "</mmultiscripts></mrow>\n",
       "</mrow>\n",
       "</mrow>\n",
       "</mrow>\n",
       "<mo>+</mo>\n",
       "<mrow>\n",
       "<mrow>\n",
       "<mn>-1</mn><mo></mo><mrow>\n",
       "<mmultiscripts>\n",
       "<mi mathvariant=\"bold\" class=\"tensor D\">D</mi><none/><mi>u</mi>\n",
       "</mmultiscripts><mmultiscripts>\n",
       "<mi mathvariant=\"bold\" class=\"tensor A\">A</mi><none/><mi>v</mi>\n",
       "</mmultiscripts><mo></mo><mmultiscripts>\n",
       "<mi mathvariant=\"bold\" class=\"tensor D\">D</mi><mi>v</mi><none/>\n",
       "</mmultiscripts><mmultiscripts>\n",
       "<mi mathvariant=\"bold\" class=\"tensor A\">A</mi><mi>u</mi><none/>\n",
       "</mmultiscripts></mrow>\n",
       "</mrow>\n",
       "<mo>+</mo>\n",
       "<mrow>\n",
       "<mmultiscripts>\n",
       "<mi mathvariant=\"bold\" class=\"tensor D\">D</mi><none/><mi>t</mi>\n",
       "</mmultiscripts><mmultiscripts>\n",
       "<mi mathvariant=\"bold\" class=\"tensor A\">A</mi><none/><mi>s</mi>\n",
       "</mmultiscripts><mo></mo><mmultiscripts>\n",
       "<mi mathvariant=\"bold\" class=\"tensor D\">D</mi><mi>t</mi><none/>\n",
       "</mmultiscripts><mmultiscripts>\n",
       "<mi mathvariant=\"bold\" class=\"tensor A\">A</mi><mi>s</mi><none/>\n",
       "</mmultiscripts></mrow>\n",
       "</mrow>\n",
       "</mrow>\n",
       "</math><br><script>registerTensorHover();</script>\n"
      ]
     },
     "metadata": {},
     "output_type": "display_data"
    }
   ],
   "source": [
    "var e4 = simp!(distribute!(e3));"
   ]
  },
  {
   "cell_type": "code",
   "execution_count": 13,
   "metadata": {},
   "outputs": [
    {
     "data": {
      "text/html": [
       "<span style=\"white-space: pre; font-family: monospace;\">[e5]: </span><script>registerTensorHover();</script><math><mrow>\n",
       "<mrow>\n",
       "<mrow>\n",
       "<mn>-1</mn><mo></mo><mrow>\n",
       "<mmultiscripts>\n",
       "<mi mathvariant=\"bold\" class=\"tensor D\">D</mi><none/><mi>y</mi>\n",
       "</mmultiscripts><mmultiscripts>\n",
       "<mi mathvariant=\"bold\" class=\"tensor A\">A</mi><none/><mi>z</mi>\n",
       "</mmultiscripts><mo></mo><mmultiscripts>\n",
       "<mi mathvariant=\"bold\" class=\"tensor D\">D</mi><mi>z</mi><none/>\n",
       "</mmultiscripts><mmultiscripts>\n",
       "<mi mathvariant=\"bold\" class=\"tensor A\">A</mi><mi>y</mi><none/>\n",
       "</mmultiscripts></mrow>\n",
       "</mrow>\n",
       "<mo>+</mo>\n",
       "<mrow>\n",
       "<mmultiscripts>\n",
       "<mi mathvariant=\"bold\" class=\"tensor D\">D</mi><none/><mi>x</mi>\n",
       "</mmultiscripts><mmultiscripts>\n",
       "<mi mathvariant=\"bold\" class=\"tensor A\">A</mi><none/><mi>w</mi>\n",
       "</mmultiscripts><mo></mo><mmultiscripts>\n",
       "<mi mathvariant=\"bold\" class=\"tensor D\">D</mi><mi>x</mi><none/>\n",
       "</mmultiscripts><mmultiscripts>\n",
       "<mi mathvariant=\"bold\" class=\"tensor A\">A</mi><mi>w</mi><none/>\n",
       "</mmultiscripts></mrow>\n",
       "</mrow>\n",
       "<mo>+</mo>\n",
       "<mrow>\n",
       "<mrow>\n",
       "<mn>-1</mn><mo></mo><mrow>\n",
       "<mn>-1</mn><mo></mo><mrow>\n",
       "<mmultiscripts>\n",
       "<mi mathvariant=\"bold\" class=\"tensor D\">D</mi><none/><mi>u</mi>\n",
       "</mmultiscripts><mmultiscripts>\n",
       "<mi mathvariant=\"bold\" class=\"tensor A\">A</mi><none/><mi>v</mi>\n",
       "</mmultiscripts><mo></mo><mmultiscripts>\n",
       "<mi mathvariant=\"bold\" class=\"tensor D\">D</mi><mi>u</mi><none/>\n",
       "</mmultiscripts><mmultiscripts>\n",
       "<mi mathvariant=\"bold\" class=\"tensor A\">A</mi><mi>v</mi><none/>\n",
       "</mmultiscripts></mrow>\n",
       "</mrow>\n",
       "</mrow>\n",
       "<mo>+</mo>\n",
       "<mrow>\n",
       "<mn>-1</mn><mo></mo><mrow>\n",
       "<mmultiscripts>\n",
       "<mi mathvariant=\"bold\" class=\"tensor D\">D</mi><none/><mi>t</mi>\n",
       "</mmultiscripts><mmultiscripts>\n",
       "<mi mathvariant=\"bold\" class=\"tensor A\">A</mi><none/><mi>s</mi>\n",
       "</mmultiscripts><mo></mo><mmultiscripts>\n",
       "<mi mathvariant=\"bold\" class=\"tensor D\">D</mi><mi>s</mi><none/>\n",
       "</mmultiscripts><mmultiscripts>\n",
       "<mi mathvariant=\"bold\" class=\"tensor A\">A</mi><mi>t</mi><none/>\n",
       "</mmultiscripts></mrow>\n",
       "</mrow>\n",
       "</mrow>\n",
       "</mrow>\n",
       "</math><br><script>registerTensorHover();</script>\n"
      ]
     },
     "metadata": {},
     "output_type": "display_data"
    }
   ],
   "source": [
    "var e5 = simp!(distribute!(e4));"
   ]
  },
  {
   "cell_type": "code",
   "execution_count": 3,
   "metadata": {},
   "outputs": [
    {
     "data": {
      "text/html": [
       "<span style=\"white-space: pre; font-family: monospace;\">tensor B {\n",
       "  a (1), b (1) : G (1) \n",
       "} ;\n",
       "</span><script>registerTensorHover();</script>\n"
      ]
     },
     "metadata": {},
     "output_type": "display_data"
    }
   ],
   "source": [
    "tensor B { a(1), b(1): G(1) };"
   ]
  },
  {
   "cell_type": "code",
   "execution_count": 4,
   "metadata": {
    "scrolled": true
   },
   "outputs": [
    {
     "data": {
      "text/html": [
       "<span style=\"white-space: pre; font-family: monospace;\">[T]: </span><script>registerTensorHover();</script><math><mrow>\n",
       "<mmultiscripts>\n",
       "<mi mathvariant=\"bold\" class=\"tensor B\">B</mi><none/><mi>z</mi><none/><mi>y</mi>\n",
       "</mmultiscripts><mo></mo><mrow>\n",
       "<mo>(</mo>\n",
       "<mmultiscripts>\n",
       "<mi mathvariant=\"bold\" class=\"tensor B\">B</mi><mi>y</mi><none/><mi>z</mi><none/>\n",
       "</mmultiscripts><mo>+</mo>\n",
       "<mmultiscripts>\n",
       "<mi mathvariant=\"bold\" class=\"tensor B\">B</mi><mi>y</mi><none/><mi>z</mi><none/>\n",
       "</mmultiscripts><mo>)</mo>\n",
       "</mrow>\n",
       "</mrow>\n",
       "</math><br><script>registerTensorHover();</script>\n"
      ]
     },
     "metadata": {},
     "output_type": "display_data"
    }
   ],
   "source": [
    "var T = B^a^b (B.b.a + B.b.a);"
   ]
  },
  {
   "cell_type": "code",
   "execution_count": 5,
   "metadata": {},
   "outputs": [
    {
     "data": {
      "text/html": [
       "<span style=\"white-space: pre; font-family: monospace;\">[$1]: </span><script>registerTensorHover();</script><math><mrow>\n",
       "<mrow>\n",
       "<mmultiscripts>\n",
       "<mi mathvariant=\"bold\" class=\"tensor B\">B</mi><none/><mi>z</mi><none/><mi>y</mi>\n",
       "</mmultiscripts><mo></mo><mmultiscripts>\n",
       "<mi mathvariant=\"bold\" class=\"tensor B\">B</mi><mi>y</mi><none/><mi>z</mi><none/>\n",
       "</mmultiscripts></mrow>\n",
       "<mo>+</mo>\n",
       "<mrow>\n",
       "<mmultiscripts>\n",
       "<mi mathvariant=\"bold\" class=\"tensor B\">B</mi><none/><mi>z</mi><none/><mi>y</mi>\n",
       "</mmultiscripts><mo></mo><mmultiscripts>\n",
       "<mi mathvariant=\"bold\" class=\"tensor B\">B</mi><mi>y</mi><none/><mi>z</mi><none/>\n",
       "</mmultiscripts></mrow>\n",
       "</mrow>\n",
       "</math><br><script>registerTensorHover();</script>\n"
      ]
     },
     "metadata": {},
     "output_type": "display_data"
    }
   ],
   "source": [
    "distribute!(T);"
   ]
  },
  {
   "cell_type": "code",
   "execution_count": 6,
   "metadata": {},
   "outputs": [
    {
     "data": {
      "text/html": [
       "<span style=\"white-space: pre; font-family: monospace;\">[$2]: </span><script>registerTensorHover();</script><math><mmultiscripts>\n",
       "<mi mathvariant=\"bold\" class=\"tensor D\">D</mi><mi>a̲</mi><none/>\n",
       "</mmultiscripts><mrow>\n",
       "<mo>(</mo>\n",
       "<mmultiscripts>\n",
       "<mi mathvariant=\"bold\" class=\"tensor B\">B</mi><mi>b̲</mi><none/><mi>c̲</mi><none/>\n",
       "</mmultiscripts><mo></mo><mmultiscripts>\n",
       "<mi mathvariant=\"bold\" class=\"tensor B\">B</mi><mi>d̲</mi><none/><mi>e̲</mi><none/>\n",
       "</mmultiscripts><mo>)</mo>\n",
       "</mrow>\n",
       "</math><br><script>registerTensorHover();</script>\n"
      ]
     },
     "metadata": {},
     "output_type": "display_data"
    }
   ],
   "source": [
    "D.a~(B.b.c B.d.e);"
   ]
  }
 ],
 "metadata": {
  "kernelspec": {
   "display_name": "Tensor",
   "language": "tensor",
   "name": "tensorkernel"
  },
  "language_info": {
   "codemirror_mode": "null",
   "file_extension": ".book",
   "name": "tensorkernel",
   "pygments_lexer": "Text",
   "version": "1.0.0"
  }
 },
 "nbformat": 4,
 "nbformat_minor": 2
}
