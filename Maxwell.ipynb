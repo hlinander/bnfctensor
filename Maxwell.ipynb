{
 "cells": [
  {
   "cell_type": "code",
   "execution_count": 1,
   "metadata": {},
   "outputs": [
    {
     "data": {
      "text/html": [
       "<span style=\"white-space: pre; font-family: monospace;\">tensor A {\n",
       "  a (3): SO (4)\n",
       "}\n",
       "</span>\n",
       "<span style=\"white-space: pre; font-family: monospace;\">op D {\n",
       "  a (3): SO (4)\n",
       "}\n",
       "</span>\n",
       "<span style=\"white-space: pre; font-family: monospace;\">[F]: </span><math><mrow>\n",
       "<mmultiscripts>\n",
       "<mi>D</mi><mi><mi>a̲</mi></mi><none/>\n",
       "</mmultiscripts><mmultiscripts>\n",
       "<mi>A</mi><mi><mi>b̲</mi></mi><none/>\n",
       "</mmultiscripts><mo>+</mo>\n",
       "<mrow>\n",
       "<mn>-1</mn><mo>⊗</mo><mmultiscripts>\n",
       "<mi>D</mi><mi><mi>b̲</mi></mi><none/>\n",
       "</mmultiscripts><mmultiscripts>\n",
       "<mi>A</mi><mi><mi>a̲</mi></mi><none/>\n",
       "</mmultiscripts></mrow>\n",
       "</mrow>\n",
       "</math><br>\n",
       "<span style=\"white-space: pre; font-family: monospace;\">[$0]: </span><math><mrow>\n",
       "<mrow>\n",
       "<mo>(</mo>\n",
       "<mmultiscripts>\n",
       "<mi>D</mi><mi><mi>z</mi></mi><none/>\n",
       "</mmultiscripts><mmultiscripts>\n",
       "<mi>A</mi><mi><mi>y</mi></mi><none/>\n",
       "</mmultiscripts><mo>+</mo>\n",
       "<mrow>\n",
       "<mn>-1</mn><mo>⊗</mo><mmultiscripts>\n",
       "<mi>D</mi><mi><mi>y</mi></mi><none/>\n",
       "</mmultiscripts><mmultiscripts>\n",
       "<mi>A</mi><mi><mi>z</mi></mi><none/>\n",
       "</mmultiscripts></mrow>\n",
       "<mo>)</mo>\n",
       "</mrow>\n",
       "<mo>⊗</mo><mrow>\n",
       "<mmultiscripts>\n",
       "<mi>g</mi><none/><mi><mi>z</mi></mi><none/><mi><mi>x</mi></mi>\n",
       "</mmultiscripts><mo>⊗</mo><mrow>\n",
       "<mmultiscripts>\n",
       "<mi>g</mi><none/><mi><mi>y</mi></mi><none/><mi><mi>w</mi></mi>\n",
       "</mmultiscripts><mo>⊗</mo><mrow>\n",
       "<mo>(</mo>\n",
       "<mmultiscripts>\n",
       "<mi>D</mi><mi><mi>w</mi></mi><none/>\n",
       "</mmultiscripts><mmultiscripts>\n",
       "<mi>A</mi><mi><mi>x</mi></mi><none/>\n",
       "</mmultiscripts><mo>+</mo>\n",
       "<mrow>\n",
       "<mn>-1</mn><mo>⊗</mo><mmultiscripts>\n",
       "<mi>D</mi><mi><mi>x</mi></mi><none/>\n",
       "</mmultiscripts><mmultiscripts>\n",
       "<mi>A</mi><mi><mi>w</mi></mi><none/>\n",
       "</mmultiscripts></mrow>\n",
       "<mo>)</mo>\n",
       "</mrow>\n",
       "</mrow>\n",
       "</mrow>\n",
       "</mrow>\n",
       "</math><br>\n",
       "<span style=\"white-space: pre; font-family: monospace;\">[e1]: </span><math><mrow>\n",
       "<mrow>\n",
       "<mmultiscripts>\n",
       "<mi>D</mi><mi><mi>z</mi></mi><none/>\n",
       "</mmultiscripts><mmultiscripts>\n",
       "<mi>A</mi><mi><mi>y</mi></mi><none/>\n",
       "</mmultiscripts><mo>⊗</mo><mrow>\n",
       "<mmultiscripts>\n",
       "<mi>g</mi><none/><mi><mi>z</mi></mi><none/><mi><mi>x</mi></mi>\n",
       "</mmultiscripts><mo>⊗</mo><mrow>\n",
       "<mo>(</mo>\n",
       "<mrow>\n",
       "<mmultiscripts>\n",
       "<mi>g</mi><none/><mi><mi>y</mi></mi><none/><mi><mi>w</mi></mi>\n",
       "</mmultiscripts><mo>⊗</mo><mmultiscripts>\n",
       "<mi>D</mi><mi><mi>w</mi></mi><none/>\n",
       "</mmultiscripts><mmultiscripts>\n",
       "<mi>A</mi><mi><mi>x</mi></mi><none/>\n",
       "</mmultiscripts></mrow>\n",
       "<mo>+</mo>\n",
       "<mrow>\n",
       "<mmultiscripts>\n",
       "<mi>g</mi><none/><mi><mi>y</mi></mi><none/><mi><mi>w</mi></mi>\n",
       "</mmultiscripts><mo>⊗</mo><mrow>\n",
       "<mn>-1</mn><mo>⊗</mo><mmultiscripts>\n",
       "<mi>D</mi><mi><mi>x</mi></mi><none/>\n",
       "</mmultiscripts><mmultiscripts>\n",
       "<mi>A</mi><mi><mi>w</mi></mi><none/>\n",
       "</mmultiscripts></mrow>\n",
       "</mrow>\n",
       "<mo>)</mo>\n",
       "</mrow>\n",
       "</mrow>\n",
       "</mrow>\n",
       "<mo>+</mo>\n",
       "<mrow>\n",
       "<mrow>\n",
       "<mn>-1</mn><mo>⊗</mo><mmultiscripts>\n",
       "<mi>D</mi><mi><mi>y</mi></mi><none/>\n",
       "</mmultiscripts><mmultiscripts>\n",
       "<mi>A</mi><mi><mi>z</mi></mi><none/>\n",
       "</mmultiscripts></mrow>\n",
       "<mo>⊗</mo><mrow>\n",
       "<mmultiscripts>\n",
       "<mi>g</mi><none/><mi><mi>z</mi></mi><none/><mi><mi>v</mi></mi>\n",
       "</mmultiscripts><mo>⊗</mo><mrow>\n",
       "<mo>(</mo>\n",
       "<mrow>\n",
       "<mmultiscripts>\n",
       "<mi>g</mi><none/><mi><mi>y</mi></mi><none/><mi><mi>u</mi></mi>\n",
       "</mmultiscripts><mo>⊗</mo><mmultiscripts>\n",
       "<mi>D</mi><mi><mi>u</mi></mi><none/>\n",
       "</mmultiscripts><mmultiscripts>\n",
       "<mi>A</mi><mi><mi>v</mi></mi><none/>\n",
       "</mmultiscripts></mrow>\n",
       "<mo>+</mo>\n",
       "<mrow>\n",
       "<mmultiscripts>\n",
       "<mi>g</mi><none/><mi><mi>y</mi></mi><none/><mi><mi>u</mi></mi>\n",
       "</mmultiscripts><mo>⊗</mo><mrow>\n",
       "<mn>-1</mn><mo>⊗</mo><mmultiscripts>\n",
       "<mi>D</mi><mi><mi>v</mi></mi><none/>\n",
       "</mmultiscripts><mmultiscripts>\n",
       "<mi>A</mi><mi><mi>u</mi></mi><none/>\n",
       "</mmultiscripts></mrow>\n",
       "</mrow>\n",
       "<mo>)</mo>\n",
       "</mrow>\n",
       "</mrow>\n",
       "</mrow>\n",
       "</mrow>\n",
       "</math><br>\n"
      ]
     },
     "metadata": {},
     "output_type": "display_data"
    }
   ],
   "source": [
    "tensor A { a(3): SO(4) };\n",
    "op D { a(3): SO(4) };\n",
    "var F = D.a~(A.b) - D.b~(A.a);\n",
    "F.a.b F^a^b;\n",
    "var e1 = distribute!(F.a.b F^a^b);"
   ]
  },
  {
   "cell_type": "code",
   "execution_count": 2,
   "metadata": {
    "scrolled": true
   },
   "outputs": [
    {
     "data": {
      "text/html": [
       "<span style=\"white-space: pre; font-family: monospace;\">[e2]: </span><math><mrow>\n",
       "<mrow>\n",
       "<mmultiscripts>\n",
       "<mi>D</mi><mi><mi>z</mi></mi><none/>\n",
       "</mmultiscripts><mmultiscripts>\n",
       "<mi>A</mi><mi><mi>y</mi></mi><none/>\n",
       "</mmultiscripts><mo>⊗</mo><mrow>\n",
       "<mmultiscripts>\n",
       "<mi>g</mi><none/><mi><mi>z</mi></mi><none/><mi><mi>x</mi></mi>\n",
       "</mmultiscripts><mo>⊗</mo><mrow>\n",
       "<mo>(</mo>\n",
       "<mrow>\n",
       "<mmultiscripts>\n",
       "<mi>g</mi><none/><mi><mi>y</mi></mi><none/><mi><mi>w</mi></mi>\n",
       "</mmultiscripts><mo>⊗</mo><mmultiscripts>\n",
       "<mi>D</mi><mi><mi>w</mi></mi><none/>\n",
       "</mmultiscripts><mmultiscripts>\n",
       "<mi>A</mi><mi><mi>x</mi></mi><none/>\n",
       "</mmultiscripts></mrow>\n",
       "<mo>+</mo>\n",
       "<mrow>\n",
       "<mmultiscripts>\n",
       "<mi>g</mi><none/><mi><mi>y</mi></mi><none/><mi><mi>w</mi></mi>\n",
       "</mmultiscripts><mo>⊗</mo><mrow>\n",
       "<mn>-1</mn><mo>⊗</mo><mmultiscripts>\n",
       "<mi>D</mi><mi><mi>x</mi></mi><none/>\n",
       "</mmultiscripts><mmultiscripts>\n",
       "<mi>A</mi><mi><mi>w</mi></mi><none/>\n",
       "</mmultiscripts></mrow>\n",
       "</mrow>\n",
       "<mo>)</mo>\n",
       "</mrow>\n",
       "</mrow>\n",
       "</mrow>\n",
       "<mo>+</mo>\n",
       "<mrow>\n",
       "<mrow>\n",
       "<mn>-1</mn><mo>⊗</mo><mmultiscripts>\n",
       "<mi>D</mi><mi><mi>y</mi></mi><none/>\n",
       "</mmultiscripts><mmultiscripts>\n",
       "<mi>A</mi><mi><mi>z</mi></mi><none/>\n",
       "</mmultiscripts></mrow>\n",
       "<mo>⊗</mo><mrow>\n",
       "<mmultiscripts>\n",
       "<mi>g</mi><none/><mi><mi>z</mi></mi><none/><mi><mi>v</mi></mi>\n",
       "</mmultiscripts><mo>⊗</mo><mrow>\n",
       "<mo>(</mo>\n",
       "<mrow>\n",
       "<mmultiscripts>\n",
       "<mi>g</mi><none/><mi><mi>y</mi></mi><none/><mi><mi>u</mi></mi>\n",
       "</mmultiscripts><mo>⊗</mo><mmultiscripts>\n",
       "<mi>D</mi><mi><mi>u</mi></mi><none/>\n",
       "</mmultiscripts><mmultiscripts>\n",
       "<mi>A</mi><mi><mi>v</mi></mi><none/>\n",
       "</mmultiscripts></mrow>\n",
       "<mo>+</mo>\n",
       "<mrow>\n",
       "<mmultiscripts>\n",
       "<mi>g</mi><none/><mi><mi>y</mi></mi><none/><mi><mi>u</mi></mi>\n",
       "</mmultiscripts><mo>⊗</mo><mrow>\n",
       "<mn>-1</mn><mo>⊗</mo><mmultiscripts>\n",
       "<mi>D</mi><mi><mi>v</mi></mi><none/>\n",
       "</mmultiscripts><mmultiscripts>\n",
       "<mi>A</mi><mi><mi>u</mi></mi><none/>\n",
       "</mmultiscripts></mrow>\n",
       "</mrow>\n",
       "<mo>)</mo>\n",
       "</mrow>\n",
       "</mrow>\n",
       "</mrow>\n",
       "</mrow>\n",
       "</math><br>\n"
      ]
     },
     "metadata": {},
     "output_type": "display_data"
    }
   ],
   "source": [
    "var e2 = simpn!(e1);"
   ]
  },
  {
   "cell_type": "code",
   "execution_count": 3,
   "metadata": {},
   "outputs": [
    {
     "data": {
      "text/html": [
       "<span style=\"white-space: pre; font-family: monospace;\">tensor B {\n",
       "  a (1), b (1): G (1)\n",
       "}\n",
       "</span>\n"
      ]
     },
     "metadata": {},
     "output_type": "display_data"
    }
   ],
   "source": [
    "tensor B { a(1), b(1): G(1) };"
   ]
  },
  {
   "cell_type": "code",
   "execution_count": 4,
   "metadata": {
    "scrolled": true
   },
   "outputs": [
    {
     "data": {
      "text/html": [
       "<span style=\"white-space: pre; font-family: monospace;\">[T]: </span><math><mrow>\n",
       "<mmultiscripts>\n",
       "<mi>B</mi><none/><mi><mi>z</mi></mi><none/><mi><mi>y</mi></mi>\n",
       "</mmultiscripts><mo>⊗</mo><mrow>\n",
       "<mo>(</mo>\n",
       "<mmultiscripts>\n",
       "<mi>B</mi><mi><mi>y</mi></mi><none/><mi><mi>z</mi></mi><none/>\n",
       "</mmultiscripts><mo>+</mo>\n",
       "<mmultiscripts>\n",
       "<mi>B</mi><mi><mi>y</mi></mi><none/><mi><mi>z</mi></mi><none/>\n",
       "</mmultiscripts><mo>)</mo>\n",
       "</mrow>\n",
       "</mrow>\n",
       "</math><br>\n"
      ]
     },
     "metadata": {},
     "output_type": "display_data"
    }
   ],
   "source": [
    "var T = B^a^b (B.b.a + B.b.a);"
   ]
  },
  {
   "cell_type": "code",
   "execution_count": 5,
   "metadata": {},
   "outputs": [
    {
     "data": {
      "text/html": [
       "<span style=\"white-space: pre; font-family: monospace;\">[$1]: </span><math><mrow>\n",
       "<mrow>\n",
       "<mmultiscripts>\n",
       "<mi>B</mi><none/><mi><mi>z</mi></mi><none/><mi><mi>y</mi></mi>\n",
       "</mmultiscripts><mo>⊗</mo><mmultiscripts>\n",
       "<mi>B</mi><mi><mi>y</mi></mi><none/><mi><mi>z</mi></mi><none/>\n",
       "</mmultiscripts></mrow>\n",
       "<mo>+</mo>\n",
       "<mrow>\n",
       "<mmultiscripts>\n",
       "<mi>B</mi><none/><mi><mi>z</mi></mi><none/><mi><mi>y</mi></mi>\n",
       "</mmultiscripts><mo>⊗</mo><mmultiscripts>\n",
       "<mi>B</mi><mi><mi>y</mi></mi><none/><mi><mi>z</mi></mi><none/>\n",
       "</mmultiscripts></mrow>\n",
       "</mrow>\n",
       "</math><br>\n"
      ]
     },
     "metadata": {},
     "output_type": "display_data"
    }
   ],
   "source": [
    "distribute!(T);"
   ]
  },
  {
   "cell_type": "code",
   "execution_count": 6,
   "metadata": {},
   "outputs": [
    {
     "data": {
      "text/html": [
       "<span style=\"white-space: pre; font-family: monospace;\">[$2]: </span><math><mmultiscripts>\n",
       "<mi>D</mi><mi><mi>a̲</mi></mi><none/>\n",
       "</mmultiscripts><mrow>\n",
       "<mo>(</mo>\n",
       "<mmultiscripts>\n",
       "<mi>B</mi><mi><mi>b̲</mi></mi><none/><mi><mi>c̲</mi></mi><none/>\n",
       "</mmultiscripts><mo>⊗</mo><mmultiscripts>\n",
       "<mi>B</mi><mi><mi>d̲</mi></mi><none/><mi><mi>e̲</mi></mi><none/>\n",
       "</mmultiscripts><mo>)</mo>\n",
       "</mrow>\n",
       "</math><br>\n"
      ]
     },
     "metadata": {},
     "output_type": "display_data"
    }
   ],
   "source": [
    "D.a~(B.b.c B.d.e);"
   ]
  },
  {
   "cell_type": "code",
   "execution_count": 1,
   "metadata": {},
   "outputs": [
    {
     "data": {
      "text/html": [
       "syntax error at end of file"
      ]
     },
     "metadata": {},
     "output_type": "display_data"
    }
   ],
   "source": []
  },
  {
   "cell_type": "code",
   "execution_count": null,
   "metadata": {},
   "outputs": [],
   "source": []
  }
 ],
 "metadata": {
  "kernelspec": {
   "display_name": "Tensor",
   "language": "tensor",
   "name": "tensor"
  },
  "language_info": {
   "codemirror_mode": "null",
   "file_extension": ".book",
   "name": "tensorkernel",
   "pygments_lexer": "Text",
   "version": "1.0.0"
  }
 },
 "nbformat": 4,
 "nbformat_minor": 2
}
